{
 "cells": [
  {
   "attachments": {},
   "cell_type": "markdown",
   "metadata": {},
   "source": [
    "# Experiment"
   ]
  },
  {
   "cell_type": "code",
   "execution_count": 1,
   "metadata": {},
   "outputs": [],
   "source": [
    "import pandas as pd\n",
    "import numpy as np\n",
    "import matplotlib.pyplot as plt\n",
    "import time\n",
    "from tqdm import tqdm\n",
    "from sklearn.metrics import mean_squared_error\n",
    "from sklearn.model_selection import train_test_split\n",
    "from sklearn.model_selection import GridSearchCV\n",
    "from sklearn.linear_model import LinearRegression\n",
    "from sklearn.svm import SVR\n",
    "\n",
    "from sklearn.kernel_approximation import Nystroem #Nystroem\n",
    "import torch"
   ]
  },
  {
   "cell_type": "code",
   "execution_count": 2,
   "metadata": {},
   "outputs": [
    {
     "data": {
      "text/html": [
       "<div>\n",
       "<style scoped>\n",
       "    .dataframe tbody tr th:only-of-type {\n",
       "        vertical-align: middle;\n",
       "    }\n",
       "\n",
       "    .dataframe tbody tr th {\n",
       "        vertical-align: top;\n",
       "    }\n",
       "\n",
       "    .dataframe thead th {\n",
       "        text-align: right;\n",
       "    }\n",
       "</style>\n",
       "<table border=\"1\" class=\"dataframe\">\n",
       "  <thead>\n",
       "    <tr style=\"text-align: right;\">\n",
       "      <th></th>\n",
       "      <th>1</th>\n",
       "      <th>2</th>\n",
       "      <th>3</th>\n",
       "      <th>4</th>\n",
       "      <th>5</th>\n",
       "      <th>6</th>\n",
       "      <th>7</th>\n",
       "      <th>8</th>\n",
       "      <th>9</th>\n",
       "      <th>10</th>\n",
       "      <th>...</th>\n",
       "      <th>81</th>\n",
       "      <th>82</th>\n",
       "      <th>83</th>\n",
       "      <th>84</th>\n",
       "      <th>85</th>\n",
       "      <th>86</th>\n",
       "      <th>87</th>\n",
       "      <th>88</th>\n",
       "      <th>89</th>\n",
       "      <th>90</th>\n",
       "    </tr>\n",
       "  </thead>\n",
       "  <tbody>\n",
       "    <tr>\n",
       "      <th>41023</th>\n",
       "      <td>47.58090</td>\n",
       "      <td>51.23695</td>\n",
       "      <td>42.14202</td>\n",
       "      <td>-1.55128</td>\n",
       "      <td>-32.38068</td>\n",
       "      <td>-0.22159</td>\n",
       "      <td>-17.24883</td>\n",
       "      <td>4.03834</td>\n",
       "      <td>0.63638</td>\n",
       "      <td>13.14812</td>\n",
       "      <td>...</td>\n",
       "      <td>45.50125</td>\n",
       "      <td>-207.98239</td>\n",
       "      <td>29.51603</td>\n",
       "      <td>43.95355</td>\n",
       "      <td>15.81620</td>\n",
       "      <td>31.53317</td>\n",
       "      <td>-155.29523</td>\n",
       "      <td>9.15115</td>\n",
       "      <td>125.73118</td>\n",
       "      <td>16.10946</td>\n",
       "    </tr>\n",
       "    <tr>\n",
       "      <th>137409</th>\n",
       "      <td>50.06922</td>\n",
       "      <td>57.83482</td>\n",
       "      <td>23.98710</td>\n",
       "      <td>-5.83465</td>\n",
       "      <td>-9.14362</td>\n",
       "      <td>-10.00140</td>\n",
       "      <td>1.43814</td>\n",
       "      <td>-1.81164</td>\n",
       "      <td>10.63548</td>\n",
       "      <td>3.59625</td>\n",
       "      <td>...</td>\n",
       "      <td>6.17209</td>\n",
       "      <td>0.05654</td>\n",
       "      <td>26.00716</td>\n",
       "      <td>11.99748</td>\n",
       "      <td>-5.37566</td>\n",
       "      <td>18.89858</td>\n",
       "      <td>11.98341</td>\n",
       "      <td>9.61346</td>\n",
       "      <td>3.80884</td>\n",
       "      <td>18.70771</td>\n",
       "    </tr>\n",
       "    <tr>\n",
       "      <th>277183</th>\n",
       "      <td>51.19684</td>\n",
       "      <td>88.28477</td>\n",
       "      <td>3.04973</td>\n",
       "      <td>-5.14134</td>\n",
       "      <td>-41.94906</td>\n",
       "      <td>-30.51041</td>\n",
       "      <td>-9.13985</td>\n",
       "      <td>-8.34211</td>\n",
       "      <td>6.25519</td>\n",
       "      <td>10.36509</td>\n",
       "      <td>...</td>\n",
       "      <td>27.37959</td>\n",
       "      <td>-113.36396</td>\n",
       "      <td>-57.30138</td>\n",
       "      <td>-19.32783</td>\n",
       "      <td>8.04192</td>\n",
       "      <td>-43.14488</td>\n",
       "      <td>-85.13709</td>\n",
       "      <td>5.71429</td>\n",
       "      <td>-11.58323</td>\n",
       "      <td>0.15450</td>\n",
       "    </tr>\n",
       "    <tr>\n",
       "      <th>162426</th>\n",
       "      <td>46.77540</td>\n",
       "      <td>-12.62961</td>\n",
       "      <td>-21.12765</td>\n",
       "      <td>-10.29240</td>\n",
       "      <td>7.60418</td>\n",
       "      <td>-10.70543</td>\n",
       "      <td>-3.13419</td>\n",
       "      <td>-5.18574</td>\n",
       "      <td>8.86097</td>\n",
       "      <td>-0.72982</td>\n",
       "      <td>...</td>\n",
       "      <td>14.71742</td>\n",
       "      <td>-43.25987</td>\n",
       "      <td>56.98176</td>\n",
       "      <td>47.79040</td>\n",
       "      <td>15.95429</td>\n",
       "      <td>1.47915</td>\n",
       "      <td>55.17214</td>\n",
       "      <td>9.48236</td>\n",
       "      <td>-41.12018</td>\n",
       "      <td>3.26026</td>\n",
       "    </tr>\n",
       "    <tr>\n",
       "      <th>257789</th>\n",
       "      <td>27.08303</td>\n",
       "      <td>-201.23907</td>\n",
       "      <td>-83.72476</td>\n",
       "      <td>-25.68031</td>\n",
       "      <td>16.19197</td>\n",
       "      <td>-37.29538</td>\n",
       "      <td>6.78612</td>\n",
       "      <td>29.69022</td>\n",
       "      <td>-42.99972</td>\n",
       "      <td>-5.71247</td>\n",
       "      <td>...</td>\n",
       "      <td>-136.37030</td>\n",
       "      <td>-389.04692</td>\n",
       "      <td>-535.14211</td>\n",
       "      <td>-432.02589</td>\n",
       "      <td>-66.28637</td>\n",
       "      <td>12.99753</td>\n",
       "      <td>-1572.91271</td>\n",
       "      <td>-36.66174</td>\n",
       "      <td>-667.67611</td>\n",
       "      <td>-135.98891</td>\n",
       "    </tr>\n",
       "    <tr>\n",
       "      <th>...</th>\n",
       "      <td>...</td>\n",
       "      <td>...</td>\n",
       "      <td>...</td>\n",
       "      <td>...</td>\n",
       "      <td>...</td>\n",
       "      <td>...</td>\n",
       "      <td>...</td>\n",
       "      <td>...</td>\n",
       "      <td>...</td>\n",
       "      <td>...</td>\n",
       "      <td>...</td>\n",
       "      <td>...</td>\n",
       "      <td>...</td>\n",
       "      <td>...</td>\n",
       "      <td>...</td>\n",
       "      <td>...</td>\n",
       "      <td>...</td>\n",
       "      <td>...</td>\n",
       "      <td>...</td>\n",
       "      <td>...</td>\n",
       "      <td>...</td>\n",
       "    </tr>\n",
       "    <tr>\n",
       "      <th>491263</th>\n",
       "      <td>51.49090</td>\n",
       "      <td>51.30144</td>\n",
       "      <td>20.58088</td>\n",
       "      <td>-9.14374</td>\n",
       "      <td>-9.95901</td>\n",
       "      <td>-23.54713</td>\n",
       "      <td>-6.05940</td>\n",
       "      <td>-0.04434</td>\n",
       "      <td>19.25317</td>\n",
       "      <td>2.63497</td>\n",
       "      <td>...</td>\n",
       "      <td>-13.74497</td>\n",
       "      <td>-68.64648</td>\n",
       "      <td>34.51042</td>\n",
       "      <td>49.81678</td>\n",
       "      <td>12.17775</td>\n",
       "      <td>57.64844</td>\n",
       "      <td>41.93876</td>\n",
       "      <td>-1.44311</td>\n",
       "      <td>2.25582</td>\n",
       "      <td>-2.28416</td>\n",
       "    </tr>\n",
       "    <tr>\n",
       "      <th>267336</th>\n",
       "      <td>47.06987</td>\n",
       "      <td>10.47262</td>\n",
       "      <td>23.81107</td>\n",
       "      <td>12.54394</td>\n",
       "      <td>3.47270</td>\n",
       "      <td>-3.62889</td>\n",
       "      <td>19.81398</td>\n",
       "      <td>8.51453</td>\n",
       "      <td>-5.86438</td>\n",
       "      <td>-0.92996</td>\n",
       "      <td>...</td>\n",
       "      <td>101.05205</td>\n",
       "      <td>-65.90430</td>\n",
       "      <td>-39.29799</td>\n",
       "      <td>-67.80821</td>\n",
       "      <td>3.10809</td>\n",
       "      <td>15.82685</td>\n",
       "      <td>52.84144</td>\n",
       "      <td>11.26181</td>\n",
       "      <td>-17.98757</td>\n",
       "      <td>-30.12669</td>\n",
       "    </tr>\n",
       "    <tr>\n",
       "      <th>470924</th>\n",
       "      <td>44.46250</td>\n",
       "      <td>37.11433</td>\n",
       "      <td>-27.18533</td>\n",
       "      <td>33.76675</td>\n",
       "      <td>7.31523</td>\n",
       "      <td>18.37826</td>\n",
       "      <td>25.49589</td>\n",
       "      <td>-5.25284</td>\n",
       "      <td>-18.41402</td>\n",
       "      <td>-14.04103</td>\n",
       "      <td>...</td>\n",
       "      <td>27.03303</td>\n",
       "      <td>-342.00207</td>\n",
       "      <td>-391.59900</td>\n",
       "      <td>157.17873</td>\n",
       "      <td>23.26258</td>\n",
       "      <td>55.27273</td>\n",
       "      <td>-15.68745</td>\n",
       "      <td>70.50363</td>\n",
       "      <td>-496.81627</td>\n",
       "      <td>-44.95163</td>\n",
       "    </tr>\n",
       "    <tr>\n",
       "      <th>491755</th>\n",
       "      <td>29.16706</td>\n",
       "      <td>-124.97979</td>\n",
       "      <td>-56.51979</td>\n",
       "      <td>-34.57494</td>\n",
       "      <td>26.46262</td>\n",
       "      <td>-13.06209</td>\n",
       "      <td>-24.11500</td>\n",
       "      <td>2.31353</td>\n",
       "      <td>1.62976</td>\n",
       "      <td>4.08517</td>\n",
       "      <td>...</td>\n",
       "      <td>76.61784</td>\n",
       "      <td>-600.41774</td>\n",
       "      <td>9.55287</td>\n",
       "      <td>-25.22799</td>\n",
       "      <td>20.13617</td>\n",
       "      <td>7.36672</td>\n",
       "      <td>89.80999</td>\n",
       "      <td>-9.09717</td>\n",
       "      <td>-20.17682</td>\n",
       "      <td>0.27964</td>\n",
       "    </tr>\n",
       "    <tr>\n",
       "      <th>128037</th>\n",
       "      <td>47.73822</td>\n",
       "      <td>35.58318</td>\n",
       "      <td>37.14200</td>\n",
       "      <td>2.33500</td>\n",
       "      <td>12.59530</td>\n",
       "      <td>-2.36627</td>\n",
       "      <td>-22.86142</td>\n",
       "      <td>-1.01141</td>\n",
       "      <td>-10.19441</td>\n",
       "      <td>3.85393</td>\n",
       "      <td>...</td>\n",
       "      <td>-6.13419</td>\n",
       "      <td>-266.88794</td>\n",
       "      <td>-10.44295</td>\n",
       "      <td>207.33594</td>\n",
       "      <td>9.34715</td>\n",
       "      <td>49.51847</td>\n",
       "      <td>112.55653</td>\n",
       "      <td>-4.64678</td>\n",
       "      <td>-92.21506</td>\n",
       "      <td>-11.66901</td>\n",
       "    </tr>\n",
       "  </tbody>\n",
       "</table>\n",
       "<p>360741 rows × 90 columns</p>\n",
       "</div>"
      ],
      "text/plain": [
       "              1          2         3         4         5         6         7   \\\n",
       "41023   47.58090   51.23695  42.14202  -1.55128 -32.38068  -0.22159 -17.24883   \n",
       "137409  50.06922   57.83482  23.98710  -5.83465  -9.14362 -10.00140   1.43814   \n",
       "277183  51.19684   88.28477   3.04973  -5.14134 -41.94906 -30.51041  -9.13985   \n",
       "162426  46.77540  -12.62961 -21.12765 -10.29240   7.60418 -10.70543  -3.13419   \n",
       "257789  27.08303 -201.23907 -83.72476 -25.68031  16.19197 -37.29538   6.78612   \n",
       "...          ...        ...       ...       ...       ...       ...       ...   \n",
       "491263  51.49090   51.30144  20.58088  -9.14374  -9.95901 -23.54713  -6.05940   \n",
       "267336  47.06987   10.47262  23.81107  12.54394   3.47270  -3.62889  19.81398   \n",
       "470924  44.46250   37.11433 -27.18533  33.76675   7.31523  18.37826  25.49589   \n",
       "491755  29.16706 -124.97979 -56.51979 -34.57494  26.46262 -13.06209 -24.11500   \n",
       "128037  47.73822   35.58318  37.14200   2.33500  12.59530  -2.36627 -22.86142   \n",
       "\n",
       "              8         9         10  ...         81         82         83  \\\n",
       "41023    4.03834   0.63638  13.14812  ...   45.50125 -207.98239   29.51603   \n",
       "137409  -1.81164  10.63548   3.59625  ...    6.17209    0.05654   26.00716   \n",
       "277183  -8.34211   6.25519  10.36509  ...   27.37959 -113.36396  -57.30138   \n",
       "162426  -5.18574   8.86097  -0.72982  ...   14.71742  -43.25987   56.98176   \n",
       "257789  29.69022 -42.99972  -5.71247  ... -136.37030 -389.04692 -535.14211   \n",
       "...          ...       ...       ...  ...        ...        ...        ...   \n",
       "491263  -0.04434  19.25317   2.63497  ...  -13.74497  -68.64648   34.51042   \n",
       "267336   8.51453  -5.86438  -0.92996  ...  101.05205  -65.90430  -39.29799   \n",
       "470924  -5.25284 -18.41402 -14.04103  ...   27.03303 -342.00207 -391.59900   \n",
       "491755   2.31353   1.62976   4.08517  ...   76.61784 -600.41774    9.55287   \n",
       "128037  -1.01141 -10.19441   3.85393  ...   -6.13419 -266.88794  -10.44295   \n",
       "\n",
       "               84        85        86          87        88         89  \\\n",
       "41023    43.95355  15.81620  31.53317  -155.29523   9.15115  125.73118   \n",
       "137409   11.99748  -5.37566  18.89858    11.98341   9.61346    3.80884   \n",
       "277183  -19.32783   8.04192 -43.14488   -85.13709   5.71429  -11.58323   \n",
       "162426   47.79040  15.95429   1.47915    55.17214   9.48236  -41.12018   \n",
       "257789 -432.02589 -66.28637  12.99753 -1572.91271 -36.66174 -667.67611   \n",
       "...           ...       ...       ...         ...       ...        ...   \n",
       "491263   49.81678  12.17775  57.64844    41.93876  -1.44311    2.25582   \n",
       "267336  -67.80821   3.10809  15.82685    52.84144  11.26181  -17.98757   \n",
       "470924  157.17873  23.26258  55.27273   -15.68745  70.50363 -496.81627   \n",
       "491755  -25.22799  20.13617   7.36672    89.80999  -9.09717  -20.17682   \n",
       "128037  207.33594   9.34715  49.51847   112.55653  -4.64678  -92.21506   \n",
       "\n",
       "               90  \n",
       "41023    16.10946  \n",
       "137409   18.70771  \n",
       "277183    0.15450  \n",
       "162426    3.26026  \n",
       "257789 -135.98891  \n",
       "...           ...  \n",
       "491263   -2.28416  \n",
       "267336  -30.12669  \n",
       "470924  -44.95163  \n",
       "491755    0.27964  \n",
       "128037  -11.66901  \n",
       "\n",
       "[360741 rows x 90 columns]"
      ]
     },
     "execution_count": 2,
     "metadata": {},
     "output_type": "execute_result"
    }
   ],
   "source": [
    "df=pd.read_csv('YearPredictionMSD.txt',header=None,sep = ',')\n",
    "#df=df.iloc[:1000]\n",
    "train,test = train_test_split(df, train_size=0.7,random_state=1)\n",
    "train_y = train[0]\n",
    "test_y = test[0] #response:year\n",
    "train_x = train\n",
    "test_x = test\n",
    "del train_x[0]\n",
    "del test_x[0]\n",
    "train_x ##display the data"
   ]
  },
  {
   "attachments": {},
   "cell_type": "markdown",
   "metadata": {},
   "source": [
    "## DNN"
   ]
  },
  {
   "cell_type": "code",
   "execution_count": 4,
   "metadata": {},
   "outputs": [],
   "source": [
    "nntrain_x = torch.from_numpy(train_x.to_numpy()).float()\n",
    "nntrain_y = torch.squeeze(torch.from_numpy(train_y.to_numpy()).float()) \n",
    "nntest_x= torch.from_numpy(test_x.to_numpy()).float()\n",
    "nntest_y = torch.squeeze(torch.from_numpy(test_y.to_numpy()).float())"
   ]
  },
  {
   "cell_type": "code",
   "execution_count": 6,
   "metadata": {},
   "outputs": [
    {
     "name": "stdout",
     "output_type": "stream",
     "text": [
      "Net(\n",
      "  (fc1): Linear(in_features=90, out_features=50, bias=True)\n",
      "  (fc2): Linear(in_features=50, out_features=20, bias=True)\n",
      "  (fc3): Linear(in_features=20, out_features=5, bias=True)\n",
      "  (fc4): Linear(in_features=5, out_features=1, bias=True)\n",
      ")\n"
     ]
    },
    {
     "name": "stderr",
     "output_type": "stream",
     "text": [
      "  0%|          | 1/200 [00:12<40:14, 12.13s/it]"
     ]
    },
    {
     "name": "stdout",
     "output_type": "stream",
     "text": [
      "epoch 0\n",
      "            Train set - loss: 184.9575958251953\n",
      "            Test  set - loss: 59.21880340576172\n",
      "            \n"
     ]
    },
    {
     "name": "stderr",
     "output_type": "stream",
     "text": [
      "  6%|▌         | 11/200 [01:55<34:32, 10.96s/it]"
     ]
    },
    {
     "name": "stdout",
     "output_type": "stream",
     "text": [
      "epoch 10\n",
      "            Train set - loss: 60.61654281616211\n",
      "            Test  set - loss: 58.843055725097656\n",
      "            \n"
     ]
    },
    {
     "name": "stderr",
     "output_type": "stream",
     "text": [
      " 10%|█         | 21/200 [03:45<34:16, 11.49s/it]"
     ]
    },
    {
     "name": "stdout",
     "output_type": "stream",
     "text": [
      "epoch 20\n",
      "            Train set - loss: 178.09547424316406\n",
      "            Test  set - loss: 59.0162467956543\n",
      "            \n"
     ]
    },
    {
     "name": "stderr",
     "output_type": "stream",
     "text": [
      " 16%|█▌        | 31/200 [05:44<35:44, 12.69s/it]"
     ]
    },
    {
     "name": "stdout",
     "output_type": "stream",
     "text": [
      "epoch 30\n",
      "            Train set - loss: 132.7847137451172\n",
      "            Test  set - loss: 58.76819610595703\n",
      "            \n"
     ]
    },
    {
     "name": "stderr",
     "output_type": "stream",
     "text": [
      " 20%|██        | 41/200 [07:41<32:14, 12.17s/it]"
     ]
    },
    {
     "name": "stdout",
     "output_type": "stream",
     "text": [
      "epoch 40\n",
      "            Train set - loss: 101.0751724243164\n",
      "            Test  set - loss: 58.774375915527344\n",
      "            \n"
     ]
    },
    {
     "name": "stderr",
     "output_type": "stream",
     "text": [
      " 26%|██▌       | 51/200 [09:41<30:34, 12.32s/it]"
     ]
    },
    {
     "name": "stdout",
     "output_type": "stream",
     "text": [
      "epoch 50\n",
      "            Train set - loss: 172.90834045410156\n",
      "            Test  set - loss: 59.86004638671875\n",
      "            \n"
     ]
    },
    {
     "name": "stderr",
     "output_type": "stream",
     "text": [
      " 30%|███       | 61/200 [11:39<28:29, 12.30s/it]"
     ]
    },
    {
     "name": "stdout",
     "output_type": "stream",
     "text": [
      "epoch 60\n",
      "            Train set - loss: 107.22042846679688\n",
      "            Test  set - loss: 58.75000762939453\n",
      "            \n"
     ]
    },
    {
     "name": "stderr",
     "output_type": "stream",
     "text": [
      " 36%|███▌      | 71/200 [13:37<26:19, 12.24s/it]"
     ]
    },
    {
     "name": "stdout",
     "output_type": "stream",
     "text": [
      "epoch 70\n",
      "            Train set - loss: 117.70008850097656\n",
      "            Test  set - loss: 58.939170837402344\n",
      "            \n"
     ]
    },
    {
     "name": "stderr",
     "output_type": "stream",
     "text": [
      " 40%|████      | 81/200 [15:34<24:07, 12.17s/it]"
     ]
    },
    {
     "name": "stdout",
     "output_type": "stream",
     "text": [
      "epoch 80\n",
      "            Train set - loss: 200.94415283203125\n",
      "            Test  set - loss: 58.87731170654297\n",
      "            \n"
     ]
    },
    {
     "name": "stderr",
     "output_type": "stream",
     "text": [
      " 46%|████▌     | 91/200 [17:33<22:48, 12.56s/it]"
     ]
    },
    {
     "name": "stdout",
     "output_type": "stream",
     "text": [
      "epoch 90\n",
      "            Train set - loss: 145.0782928466797\n",
      "            Test  set - loss: 58.766807556152344\n",
      "            \n"
     ]
    },
    {
     "name": "stderr",
     "output_type": "stream",
     "text": [
      " 50%|█████     | 101/200 [19:29<20:01, 12.13s/it]"
     ]
    },
    {
     "name": "stdout",
     "output_type": "stream",
     "text": [
      "epoch 100\n",
      "            Train set - loss: 122.72132110595703\n",
      "            Test  set - loss: 59.07706832885742\n",
      "            \n"
     ]
    },
    {
     "name": "stderr",
     "output_type": "stream",
     "text": [
      " 56%|█████▌    | 111/200 [21:27<18:16, 12.32s/it]"
     ]
    },
    {
     "name": "stdout",
     "output_type": "stream",
     "text": [
      "epoch 110\n",
      "            Train set - loss: 259.5238342285156\n",
      "            Test  set - loss: 58.75\n",
      "            \n"
     ]
    },
    {
     "name": "stderr",
     "output_type": "stream",
     "text": [
      " 60%|██████    | 121/200 [23:28<17:04, 12.97s/it]"
     ]
    },
    {
     "name": "stdout",
     "output_type": "stream",
     "text": [
      "epoch 120\n",
      "            Train set - loss: 165.35498046875\n",
      "            Test  set - loss: 58.75901794433594\n",
      "            \n"
     ]
    },
    {
     "name": "stderr",
     "output_type": "stream",
     "text": [
      " 66%|██████▌   | 131/200 [25:19<14:20, 12.47s/it]"
     ]
    },
    {
     "name": "stdout",
     "output_type": "stream",
     "text": [
      "epoch 130\n",
      "            Train set - loss: 93.59932708740234\n",
      "            Test  set - loss: 58.889076232910156\n",
      "            \n"
     ]
    },
    {
     "name": "stderr",
     "output_type": "stream",
     "text": [
      " 70%|███████   | 141/200 [27:12<11:25, 11.61s/it]"
     ]
    },
    {
     "name": "stdout",
     "output_type": "stream",
     "text": [
      "epoch 140\n",
      "            Train set - loss: 90.42495727539062\n",
      "            Test  set - loss: 58.803680419921875\n",
      "            \n"
     ]
    },
    {
     "name": "stderr",
     "output_type": "stream",
     "text": [
      " 76%|███████▌  | 151/200 [29:02<09:20, 11.43s/it]"
     ]
    },
    {
     "name": "stdout",
     "output_type": "stream",
     "text": [
      "epoch 150\n",
      "            Train set - loss: 103.06829071044922\n",
      "            Test  set - loss: 58.7652587890625\n",
      "            \n"
     ]
    },
    {
     "name": "stderr",
     "output_type": "stream",
     "text": [
      " 80%|████████  | 161/200 [30:52<07:25, 11.43s/it]"
     ]
    },
    {
     "name": "stdout",
     "output_type": "stream",
     "text": [
      "epoch 160\n",
      "            Train set - loss: 82.6591796875\n",
      "            Test  set - loss: 58.86309814453125\n",
      "            \n"
     ]
    },
    {
     "name": "stderr",
     "output_type": "stream",
     "text": [
      " 86%|████████▌ | 171/200 [32:43<05:32, 11.47s/it]"
     ]
    },
    {
     "name": "stdout",
     "output_type": "stream",
     "text": [
      "epoch 170\n",
      "            Train set - loss: 92.19304656982422\n",
      "            Test  set - loss: 58.876014709472656\n",
      "            \n"
     ]
    },
    {
     "name": "stderr",
     "output_type": "stream",
     "text": [
      " 90%|█████████ | 181/200 [34:33<03:38, 11.48s/it]"
     ]
    },
    {
     "name": "stdout",
     "output_type": "stream",
     "text": [
      "epoch 180\n",
      "            Train set - loss: 95.63478088378906\n",
      "            Test  set - loss: 58.807769775390625\n",
      "            \n"
     ]
    },
    {
     "name": "stderr",
     "output_type": "stream",
     "text": [
      " 96%|█████████▌| 191/200 [36:23<01:42, 11.44s/it]"
     ]
    },
    {
     "name": "stdout",
     "output_type": "stream",
     "text": [
      "epoch 190\n",
      "            Train set - loss: 153.44143676757812\n",
      "            Test  set - loss: 58.86073303222656\n",
      "            \n"
     ]
    },
    {
     "name": "stderr",
     "output_type": "stream",
     "text": [
      "100%|██████████| 200/200 [38:00<00:00, 11.40s/it]"
     ]
    },
    {
     "name": "stdout",
     "output_type": "stream",
     "text": [
      "DNN complexity and model fitted in 2280.274 s\n"
     ]
    },
    {
     "name": "stderr",
     "output_type": "stream",
     "text": [
      "\n"
     ]
    }
   ],
   "source": [
    "import torch\n",
    "from torch.utils.data import Dataset,DataLoader\n",
    "from torch import optim\n",
    "import torch.nn as nn\n",
    "import torch.nn.functional as F\n",
    "\n",
    "class mydataset(Dataset):\n",
    "    def __init__(self, x, y):\n",
    "        self._x = x\n",
    "        self._y = y\n",
    "        self._len = len(x)\n",
    "\n",
    "    def __getitem__(self, item): \n",
    "        return self._x[item], self._y[item]\n",
    "\n",
    "    def __len__(self):\n",
    "        return self._len\n",
    "    \n",
    "train_loader = DataLoader(mydataset(nntrain_x, nntrain_y),batch_size=50, shuffle=True)\n",
    "test_loader = DataLoader(mydataset(nntest_x, nntest_y),batch_size=50, shuffle=False)\n",
    "\n",
    "class Net(nn.Module): \n",
    "    def __init__(self):\n",
    "        super(Net, self).__init__()\n",
    "        self.fc1 = nn.Linear(90, 50)\n",
    "        self.fc2 = nn.Linear(50, 20)\n",
    "        self.fc3 = nn.Linear(20, 5)\n",
    "        self.fc4 = nn.Linear(5, 1)\n",
    " \n",
    "    def forward(self, x):\n",
    "        x = F.relu(self.fc1(x))\n",
    "        x = F.relu(self.fc2(x))\n",
    "        x = F.relu(self.fc3(x))\n",
    "        return self.fc4(x)\n",
    "\n",
    "t0 = time.time()\n",
    "device = torch.device(\"cuda:0\" if torch.cuda.is_available() else \"cpu\")\n",
    "net = Net()\n",
    "net = net.to(device)\n",
    "print(net)\n",
    "criterion=nn.MSELoss() \n",
    "optimizer=optim.SGD(net.parameters(),lr=0.01,momentum=0.8) #optim.Adam(...)\n",
    "\n",
    "dnn_trainloss=[]\n",
    "dnn_testloss=[]\n",
    "for epoch in tqdm(range(200)): \n",
    "    for x, y in train_loader: #for batch, (x, y) in enumerate(train_loader): \n",
    "        x, y = x.to(device), y.to(device)\n",
    "        # Compute prediction error\n",
    "        y_pred = net(x)\n",
    "        y_pred = torch.squeeze(y_pred)\n",
    "        train_loss = criterion(y_pred, y)\n",
    "        # Backpropagation\n",
    "        optimizer.zero_grad() \n",
    "        train_loss.backward()\n",
    "        optimizer.step()\n",
    "    if epoch % 10 == 0: \n",
    "        for x, y in test_loader:\n",
    "            x, y = x.to(device), y.to(device)\n",
    "            y_test_pred = net(x)\n",
    "            y_test_pred = torch.squeeze(y_test_pred)\n",
    "    \n",
    "            test_loss = criterion(y_test_pred,y)\n",
    "            \n",
    "        print(f'''epoch {epoch}\n",
    "            Train set - loss: {train_loss}\n",
    "            Test  set - loss: {test_loss}\n",
    "            ''')\n",
    "        dnn_trainloss.append(float(train_loss))\n",
    "        dnn_testloss.append(float(test_loss))\n",
    "            \n",
    "dnn_fit = time.time() - t0\n",
    "print(\"DNN complexity and model fitted in %.3f s\" % dnn_fit)"
   ]
  },
  {
   "attachments": {},
   "cell_type": "markdown",
   "metadata": {},
   "source": [
    "## One kernel machine for different number of Random Feature"
   ]
  },
  {
   "attachments": {},
   "cell_type": "markdown",
   "metadata": {},
   "source": [
    "random feature class"
   ]
  },
  {
   "cell_type": "code",
   "execution_count": 4,
   "metadata": {},
   "outputs": [],
   "source": [
    "def ft_gaussian(x):\n",
    "    \"\"\"FT of gaussian, normalized so that max_x pdf(x) = 1\"\"\"\n",
    "    return np.exp(-0.5 * (np.linalg.norm(x) ** 2))\n",
    "\n",
    "def ft_laplacian(x):\n",
    "    \"\"\"FT of laplacian, normalized so that max_x pdf(x) = 1\"\"\"\n",
    "    return np.prod(np.asarray([1/(1 + x_i ** 2) for x_i in x]))\n",
    "\n",
    "def ft_cauchy(x):\n",
    "    \"\"\"FT of cauchy, normalized so that max_x pdf(x) = 1\"\"\"\n",
    "    return np.exp(-1 * sum(np.abs(x)))\n",
    "\n",
    "KERNELS = {\n",
    "    'G': ft_gaussian,\n",
    "    'L': ft_laplacian,\n",
    "    'C': ft_cauchy\n",
    "}\n",
    "\n",
    "def sample_1d(pdf, gamma, interval):\n",
    "    \"\"\"Monte-Carlo rejection sampling\"\"\"\n",
    "    while True:\n",
    "        w = np.random.rand(1) * (interval[1] - interval[0]) + interval[0] #U(interval)\n",
    "        y = np.random.rand(1) #U[0,1]\n",
    "\n",
    "        if y <= pdf(w/gamma):  #p_new(x) ~ p(x/gamma) -- transform the standard pdf\n",
    "            return w\n",
    "\n",
    "def sample(pdf, gamma, d):\n",
    "    \"\"\"Monte Carlo Rejection Sampling\"\"\"\n",
    "    return [sample_1d(pdf, gamma, [-10*gamma, 10*gamma]) for _ in range(d)]\n",
    "\n",
    "\n",
    "class RandomFourierFeature:\n",
    "    \"\"\"Random Fourier Feature\n",
    "    Parameters\n",
    "    ----------\n",
    "    d : int\n",
    "        Input space dimension\n",
    "    D : int\n",
    "        Feature space dimension\n",
    "    W : np.array\n",
    "        shape (D,d)\n",
    "    b : np.array\n",
    "        shape (D)\n",
    "    kernel : char\n",
    "        Kernel to use; 'G', 'L', or 'C'\n",
    "    gamma : float\n",
    "        pdf parameter\n",
    "    References\n",
    "    ----------\n",
    "    ..  [1] A. Rahimi, B. Recht, \"Random Features for Large-Scale Kernel\n",
    "        Machines\"\n",
    "    \"\"\"\n",
    "\n",
    "    def __init__(self, d, D, W=None, b=None, kernel='G', gamma=1):\n",
    "\n",
    "        self.d = d\n",
    "        self.D = D\n",
    "        self.gamma = gamma\n",
    "\n",
    "        kernel = kernel.upper()\n",
    "        if kernel not in ['G', 'L', 'C']:\n",
    "            raise Exception('Invalid Kernel')\n",
    "        self.kernel = kernel\n",
    "\n",
    "        if W is None or b is None:\n",
    "            self.create()\n",
    "        else:\n",
    "            self.__load(W, b)\n",
    "\n",
    "    def __load(self, W, b):\n",
    "        \"\"\"Load from existing Arrays\"\"\"\n",
    "\n",
    "        self.W = W.reshape([self.D, self.d])\n",
    "        self.b = b\n",
    "    \n",
    "\n",
    "    def create(self):\n",
    "        \"\"\"Create a d->D fourier random feature\"\"\"\n",
    "\n",
    "        self.b = np.random.uniform(0, 2 * np.pi, self.D)\n",
    "        \n",
    "        self.W = np.reshape(\n",
    "            np.array([\n",
    "                sample(KERNELS[self.kernel], self.gamma, self.d)\n",
    "                for _ in range(self.D)], dtype=np.float32),\n",
    "            (self.D, self.d))\n",
    "\n",
    "    def transform(self, x):\n",
    "        \"\"\"Transform a vector using this feature\n",
    "        Parameters\n",
    "        ----------\n",
    "        x : np.array (shape=(n,d))\n",
    "            Array to transform; must be single dimension vector\n",
    "        Returns\n",
    "        -------\n",
    "        x : np.array (shape=(n,D))\n",
    "            Feature space transformation of x\n",
    "        \"\"\"\n",
    "        \n",
    "        result=np.array([\n",
    "            np.sqrt(2 / self.D) * np.cos(np.dot(self.W, x.iloc[i]) + self.b) for i in range(len(x))]\n",
    "            )\n",
    "            \n",
    "        return result\n",
    "\n",
    "    def __str__(self):\n",
    "        \"\"\"Get string representation\n",
    "        Shown as \"<d>-><D> Random Fourier Feature\"\n",
    "        \"\"\"\n",
    "        return (\n",
    "            \"{d}->{D} Random Fourier Feature\"\n",
    "            .format(d=self.d, D=self.D))"
   ]
  },
  {
   "cell_type": "code",
   "execution_count": 14,
   "metadata": {},
   "outputs": [
    {
     "name": "stderr",
     "output_type": "stream",
     "text": [
      " 75%|███████▌  | 30/40 [2:00:32<40:10, 241.10s/it]\n"
     ]
    },
    {
     "ename": "KeyboardInterrupt",
     "evalue": "",
     "output_type": "error",
     "traceback": [
      "\u001b[1;31m---------------------------------------------------------------------------\u001b[0m",
      "\u001b[1;31mKeyboardInterrupt\u001b[0m                         Traceback (most recent call last)",
      "Cell \u001b[1;32mIn[14], line 16\u001b[0m\n\u001b[0;32m     14\u001b[0m \u001b[39mfor\u001b[39;00m i \u001b[39min\u001b[39;00m \u001b[39mrange\u001b[39m(n0):\n\u001b[0;32m     15\u001b[0m     rff\u001b[39m=\u001b[39mRandomFourierFeature(\u001b[39m90\u001b[39m,m0,kernel\u001b[39m=\u001b[39m\u001b[39m'\u001b[39m\u001b[39mG\u001b[39m\u001b[39m'\u001b[39m,gamma\u001b[39m=\u001b[39mga)\n\u001b[1;32m---> 16\u001b[0m     feature\u001b[39m=\u001b[39mrff\u001b[39m.\u001b[39;49mtransform(total_x)\n\u001b[0;32m     17\u001b[0m     train_xtransformed\u001b[39m=\u001b[39mfeature[:\u001b[39mlen\u001b[39m(train_x)]\n\u001b[0;32m     18\u001b[0m     test_xtransformed\u001b[39m=\u001b[39mfeature[\u001b[39mlen\u001b[39m(train_x):]\n",
      "Cell \u001b[1;32mIn[7], line 101\u001b[0m, in \u001b[0;36mRandomFourierFeature.transform\u001b[1;34m(self, x)\u001b[0m\n\u001b[0;32m     89\u001b[0m \u001b[39mdef\u001b[39;00m \u001b[39mtransform\u001b[39m(\u001b[39mself\u001b[39m, x):\n\u001b[0;32m     90\u001b[0m \u001b[39m    \u001b[39m\u001b[39m\"\"\"Transform a vector using this feature\u001b[39;00m\n\u001b[0;32m     91\u001b[0m \u001b[39m    Parameters\u001b[39;00m\n\u001b[0;32m     92\u001b[0m \u001b[39m    ----------\u001b[39;00m\n\u001b[1;32m   (...)\u001b[0m\n\u001b[0;32m     98\u001b[0m \u001b[39m        Feature space transformation of x\u001b[39;00m\n\u001b[0;32m     99\u001b[0m \u001b[39m    \"\"\"\u001b[39;00m\n\u001b[1;32m--> 101\u001b[0m     result\u001b[39m=\u001b[39mnp\u001b[39m.\u001b[39marray([\n\u001b[0;32m    102\u001b[0m         np\u001b[39m.\u001b[39msqrt(\u001b[39m2\u001b[39m \u001b[39m/\u001b[39m \u001b[39mself\u001b[39m\u001b[39m.\u001b[39mD) \u001b[39m*\u001b[39m np\u001b[39m.\u001b[39mcos(np\u001b[39m.\u001b[39mdot(\u001b[39mself\u001b[39m\u001b[39m.\u001b[39mW, x\u001b[39m.\u001b[39miloc[i]) \u001b[39m+\u001b[39m \u001b[39mself\u001b[39m\u001b[39m.\u001b[39mb) \u001b[39mfor\u001b[39;00m i \u001b[39min\u001b[39;00m \u001b[39mrange\u001b[39m(\u001b[39mlen\u001b[39m(x))]\n\u001b[0;32m    103\u001b[0m         )\n\u001b[0;32m    105\u001b[0m     \u001b[39mreturn\u001b[39;00m result\n",
      "Cell \u001b[1;32mIn[7], line 102\u001b[0m, in \u001b[0;36m<listcomp>\u001b[1;34m(.0)\u001b[0m\n\u001b[0;32m     89\u001b[0m \u001b[39mdef\u001b[39;00m \u001b[39mtransform\u001b[39m(\u001b[39mself\u001b[39m, x):\n\u001b[0;32m     90\u001b[0m \u001b[39m    \u001b[39m\u001b[39m\"\"\"Transform a vector using this feature\u001b[39;00m\n\u001b[0;32m     91\u001b[0m \u001b[39m    Parameters\u001b[39;00m\n\u001b[0;32m     92\u001b[0m \u001b[39m    ----------\u001b[39;00m\n\u001b[1;32m   (...)\u001b[0m\n\u001b[0;32m     98\u001b[0m \u001b[39m        Feature space transformation of x\u001b[39;00m\n\u001b[0;32m     99\u001b[0m \u001b[39m    \"\"\"\u001b[39;00m\n\u001b[0;32m    101\u001b[0m     result\u001b[39m=\u001b[39mnp\u001b[39m.\u001b[39marray([\n\u001b[1;32m--> 102\u001b[0m         np\u001b[39m.\u001b[39msqrt(\u001b[39m2\u001b[39m \u001b[39m/\u001b[39m \u001b[39mself\u001b[39m\u001b[39m.\u001b[39mD) \u001b[39m*\u001b[39m np\u001b[39m.\u001b[39mcos(np\u001b[39m.\u001b[39;49mdot(\u001b[39mself\u001b[39;49m\u001b[39m.\u001b[39;49mW, x\u001b[39m.\u001b[39;49miloc[i]) \u001b[39m+\u001b[39m \u001b[39mself\u001b[39m\u001b[39m.\u001b[39mb) \u001b[39mfor\u001b[39;00m i \u001b[39min\u001b[39;00m \u001b[39mrange\u001b[39m(\u001b[39mlen\u001b[39m(x))]\n\u001b[0;32m    103\u001b[0m         )\n\u001b[0;32m    105\u001b[0m     \u001b[39mreturn\u001b[39;00m result\n",
      "File \u001b[1;32m<__array_function__ internals>:180\u001b[0m, in \u001b[0;36mdot\u001b[1;34m(*args, **kwargs)\u001b[0m\n",
      "\u001b[1;31mKeyboardInterrupt\u001b[0m: "
     ]
    }
   ],
   "source": [
    "total_x=pd.concat([train_x,test_x])\n",
    "model =LinearRegression()\n",
    "Layer=1\n",
    "m0set=np.linspace(11,50,40)\n",
    "m0set=m0set.astype(int)\n",
    "gaset=np.logspace(-7,-1,4)\n",
    "n0=8\n",
    "\n",
    "for ga in gaset:\n",
    "    trainmse=[]\n",
    "    testmse=[]\n",
    "    t=[]\n",
    "    for m0 in tqdm(m0set):  \n",
    "        for i in range(n0):\n",
    "            rff=RandomFourierFeature(90,m0,kernel='G',gamma=ga)\n",
    "            feature=rff.transform(total_x)\n",
    "            train_xtransformed=feature[:len(train_x)]\n",
    "            test_xtransformed=feature[len(train_x):]\n",
    "            model.fit(train_xtransformed, train_y)\n",
    "            if i==0:\n",
    "                y_pretest=model.predict(test_xtransformed)\n",
    "                y_pretrain=model.predict(train_xtransformed)\n",
    "            else:\n",
    "                y_pretest=y_pretest+model.predict(test_xtransformed)\n",
    "                y_pretrain=y_pretrain+model.predict(train_xtransformed) \n",
    "        \n",
    "        y_pretest=y_pretest/n0\n",
    "        y_pretrain=y_pretrain/n0\n",
    "        \n",
    "        trainmse.append(mean_squared_error(train_y,y_pretrain))\n",
    "        testmse.append(mean_squared_error(test_y,y_pretest))\n",
    "\n",
    "    plt.plot(m0set,trainmse)\n",
    "    plt.plot(m0set,testmse,linestyle='dashed')\n",
    "    \n",
    "\n",
    "plt.xlabel(\"Random feature number\")\n",
    "plt.ylabel(\"MSE\")\n",
    "plt.title(\"MSE with different numbers of random feature-GAUSSIAN\")\n",
    "plt.legend([\"trainmse:gamma=10e-7\",\"testmse:gamma=10e-7\",\"trainmse:gamma=10e-5\",\"testmse:gamma=10e-5\",\"trainmse:gamma=10e-3\",\"testmse:gamma=10e-3\",\"trainmse:gamma=10e-1\",\"testmse:gamma=10e-1\"])\n",
    "plt.show()\n"
   ]
  },
  {
   "attachments": {},
   "cell_type": "markdown",
   "metadata": {},
   "source": [
    "## Network learning"
   ]
  },
  {
   "cell_type": "code",
   "execution_count": 18,
   "metadata": {},
   "outputs": [
    {
     "name": "stdout",
     "output_type": "stream",
     "text": [
      "KernelNet(\n",
      "  (fc1): Linear(in_features=100, out_features=60, bias=True)\n",
      "  (fc2): Linear(in_features=50, out_features=30, bias=True)\n",
      "  (fc3): Linear(in_features=20, out_features=5, bias=True)\n",
      "  (fc4): Linear(in_features=10, out_features=1, bias=True)\n",
      ")\n"
     ]
    },
    {
     "name": "stderr",
     "output_type": "stream",
     "text": [
      "  0%|          | 0/200 [01:01<?, ?it/s]\n"
     ]
    },
    {
     "ename": "KeyboardInterrupt",
     "evalue": "",
     "output_type": "error",
     "traceback": [
      "\u001b[1;31m---------------------------------------------------------------------------\u001b[0m",
      "\u001b[1;31mKeyboardInterrupt\u001b[0m                         Traceback (most recent call last)",
      "Cell \u001b[1;32mIn[18], line 69\u001b[0m\n\u001b[0;32m     67\u001b[0m x, y \u001b[39m=\u001b[39m x\u001b[39m.\u001b[39mto(device), y\u001b[39m.\u001b[39mto(device)\n\u001b[0;32m     68\u001b[0m \u001b[39m# Compute prediction error\u001b[39;00m\n\u001b[1;32m---> 69\u001b[0m y_pred \u001b[39m=\u001b[39m net(x)\n\u001b[0;32m     70\u001b[0m y_pred \u001b[39m=\u001b[39m torch\u001b[39m.\u001b[39msqueeze(y_pred)\n\u001b[0;32m     71\u001b[0m train_loss \u001b[39m=\u001b[39m criterion(y_pred, y)\n",
      "File \u001b[1;32md:\\Anaconda\\envs\\pytorch\\lib\\site-packages\\torch\\nn\\modules\\module.py:1501\u001b[0m, in \u001b[0;36mModule._call_impl\u001b[1;34m(self, *args, **kwargs)\u001b[0m\n\u001b[0;32m   1496\u001b[0m \u001b[39m# If we don't have any hooks, we want to skip the rest of the logic in\u001b[39;00m\n\u001b[0;32m   1497\u001b[0m \u001b[39m# this function, and just call forward.\u001b[39;00m\n\u001b[0;32m   1498\u001b[0m \u001b[39mif\u001b[39;00m \u001b[39mnot\u001b[39;00m (\u001b[39mself\u001b[39m\u001b[39m.\u001b[39m_backward_hooks \u001b[39mor\u001b[39;00m \u001b[39mself\u001b[39m\u001b[39m.\u001b[39m_backward_pre_hooks \u001b[39mor\u001b[39;00m \u001b[39mself\u001b[39m\u001b[39m.\u001b[39m_forward_hooks \u001b[39mor\u001b[39;00m \u001b[39mself\u001b[39m\u001b[39m.\u001b[39m_forward_pre_hooks\n\u001b[0;32m   1499\u001b[0m         \u001b[39mor\u001b[39;00m _global_backward_pre_hooks \u001b[39mor\u001b[39;00m _global_backward_hooks\n\u001b[0;32m   1500\u001b[0m         \u001b[39mor\u001b[39;00m _global_forward_hooks \u001b[39mor\u001b[39;00m _global_forward_pre_hooks):\n\u001b[1;32m-> 1501\u001b[0m     \u001b[39mreturn\u001b[39;00m forward_call(\u001b[39m*\u001b[39margs, \u001b[39m*\u001b[39m\u001b[39m*\u001b[39mkwargs)\n\u001b[0;32m   1502\u001b[0m \u001b[39m# Do not call functions when jit is used\u001b[39;00m\n\u001b[0;32m   1503\u001b[0m full_backward_hooks, non_full_backward_hooks \u001b[39m=\u001b[39m [], []\n",
      "Cell \u001b[1;32mIn[18], line 36\u001b[0m, in \u001b[0;36mKernelNet.forward\u001b[1;34m(self, x)\u001b[0m\n\u001b[0;32m     34\u001b[0m yn \u001b[39m=\u001b[39m rff\u001b[39m.\u001b[39mtransform(y)\n\u001b[0;32m     35\u001b[0m x \u001b[39m=\u001b[39m torch\u001b[39m.\u001b[39mfrom_numpy(yn)\u001b[39m.\u001b[39mfloat()\n\u001b[1;32m---> 36\u001b[0m rff\u001b[39m=\u001b[39mRandomFourierFeature(\u001b[39m60\u001b[39;49m,\u001b[39m50\u001b[39;49m,kernel\u001b[39m=\u001b[39;49m\u001b[39m'\u001b[39;49m\u001b[39mG\u001b[39;49m\u001b[39m'\u001b[39;49m,gamma\u001b[39m=\u001b[39;49m\u001b[39m10\u001b[39;49m\u001b[39m*\u001b[39;49m\u001b[39m*\u001b[39;49m(\u001b[39m-\u001b[39;49m\u001b[39m2\u001b[39;49m))\n\u001b[0;32m     37\u001b[0m y\u001b[39m=\u001b[39m\u001b[39mself\u001b[39m\u001b[39m.\u001b[39mfc1(x)\u001b[39m.\u001b[39mdetach()\u001b[39m.\u001b[39mnumpy()\n\u001b[0;32m     38\u001b[0m y\u001b[39m=\u001b[39mpd\u001b[39m.\u001b[39mDataFrame(y)\n",
      "Cell \u001b[1;32mIn[7], line 67\u001b[0m, in \u001b[0;36mRandomFourierFeature.__init__\u001b[1;34m(self, d, D, W, b, kernel, gamma)\u001b[0m\n\u001b[0;32m     64\u001b[0m \u001b[39mself\u001b[39m\u001b[39m.\u001b[39mkernel \u001b[39m=\u001b[39m kernel\n\u001b[0;32m     66\u001b[0m \u001b[39mif\u001b[39;00m W \u001b[39mis\u001b[39;00m \u001b[39mNone\u001b[39;00m \u001b[39mor\u001b[39;00m b \u001b[39mis\u001b[39;00m \u001b[39mNone\u001b[39;00m:\n\u001b[1;32m---> 67\u001b[0m     \u001b[39mself\u001b[39;49m\u001b[39m.\u001b[39;49mcreate()\n\u001b[0;32m     68\u001b[0m \u001b[39melse\u001b[39;00m:\n\u001b[0;32m     69\u001b[0m     \u001b[39mself\u001b[39m\u001b[39m.\u001b[39m__load(W, b)\n",
      "Cell \u001b[1;32mIn[7], line 84\u001b[0m, in \u001b[0;36mRandomFourierFeature.create\u001b[1;34m(self)\u001b[0m\n\u001b[0;32m     79\u001b[0m \u001b[39m\u001b[39m\u001b[39m\"\"\"Create a d->D fourier random feature\"\"\"\u001b[39;00m\n\u001b[0;32m     81\u001b[0m \u001b[39mself\u001b[39m\u001b[39m.\u001b[39mb \u001b[39m=\u001b[39m np\u001b[39m.\u001b[39mrandom\u001b[39m.\u001b[39muniform(\u001b[39m0\u001b[39m, \u001b[39m2\u001b[39m \u001b[39m*\u001b[39m np\u001b[39m.\u001b[39mpi, \u001b[39mself\u001b[39m\u001b[39m.\u001b[39mD)\n\u001b[0;32m     83\u001b[0m \u001b[39mself\u001b[39m\u001b[39m.\u001b[39mW \u001b[39m=\u001b[39m np\u001b[39m.\u001b[39mreshape(\n\u001b[1;32m---> 84\u001b[0m     np\u001b[39m.\u001b[39marray([\n\u001b[0;32m     85\u001b[0m         sample(KERNELS[\u001b[39mself\u001b[39m\u001b[39m.\u001b[39mkernel], \u001b[39mself\u001b[39m\u001b[39m.\u001b[39mgamma, \u001b[39mself\u001b[39m\u001b[39m.\u001b[39md)\n\u001b[0;32m     86\u001b[0m         \u001b[39mfor\u001b[39;00m _ \u001b[39min\u001b[39;00m \u001b[39mrange\u001b[39m(\u001b[39mself\u001b[39m\u001b[39m.\u001b[39mD)], dtype\u001b[39m=\u001b[39mnp\u001b[39m.\u001b[39mfloat32),\n\u001b[0;32m     87\u001b[0m     (\u001b[39mself\u001b[39m\u001b[39m.\u001b[39mD, \u001b[39mself\u001b[39m\u001b[39m.\u001b[39md))\n",
      "Cell \u001b[1;32mIn[7], line 85\u001b[0m, in \u001b[0;36m<listcomp>\u001b[1;34m(.0)\u001b[0m\n\u001b[0;32m     79\u001b[0m \u001b[39m\u001b[39m\u001b[39m\"\"\"Create a d->D fourier random feature\"\"\"\u001b[39;00m\n\u001b[0;32m     81\u001b[0m \u001b[39mself\u001b[39m\u001b[39m.\u001b[39mb \u001b[39m=\u001b[39m np\u001b[39m.\u001b[39mrandom\u001b[39m.\u001b[39muniform(\u001b[39m0\u001b[39m, \u001b[39m2\u001b[39m \u001b[39m*\u001b[39m np\u001b[39m.\u001b[39mpi, \u001b[39mself\u001b[39m\u001b[39m.\u001b[39mD)\n\u001b[0;32m     83\u001b[0m \u001b[39mself\u001b[39m\u001b[39m.\u001b[39mW \u001b[39m=\u001b[39m np\u001b[39m.\u001b[39mreshape(\n\u001b[0;32m     84\u001b[0m     np\u001b[39m.\u001b[39marray([\n\u001b[1;32m---> 85\u001b[0m         sample(KERNELS[\u001b[39mself\u001b[39;49m\u001b[39m.\u001b[39;49mkernel], \u001b[39mself\u001b[39;49m\u001b[39m.\u001b[39;49mgamma, \u001b[39mself\u001b[39;49m\u001b[39m.\u001b[39;49md)\n\u001b[0;32m     86\u001b[0m         \u001b[39mfor\u001b[39;00m _ \u001b[39min\u001b[39;00m \u001b[39mrange\u001b[39m(\u001b[39mself\u001b[39m\u001b[39m.\u001b[39mD)], dtype\u001b[39m=\u001b[39mnp\u001b[39m.\u001b[39mfloat32),\n\u001b[0;32m     87\u001b[0m     (\u001b[39mself\u001b[39m\u001b[39m.\u001b[39mD, \u001b[39mself\u001b[39m\u001b[39m.\u001b[39md))\n",
      "Cell \u001b[1;32mIn[7], line 30\u001b[0m, in \u001b[0;36msample\u001b[1;34m(pdf, gamma, d)\u001b[0m\n\u001b[0;32m     28\u001b[0m \u001b[39mdef\u001b[39;00m \u001b[39msample\u001b[39m(pdf, gamma, d):\n\u001b[0;32m     29\u001b[0m \u001b[39m    \u001b[39m\u001b[39m\"\"\"Monte Carlo Rejection Sampling\"\"\"\u001b[39;00m\n\u001b[1;32m---> 30\u001b[0m     \u001b[39mreturn\u001b[39;00m [sample_1d(pdf, gamma, [\u001b[39m-\u001b[39m\u001b[39m10\u001b[39m\u001b[39m*\u001b[39mgamma, \u001b[39m10\u001b[39m\u001b[39m*\u001b[39mgamma]) \u001b[39mfor\u001b[39;00m _ \u001b[39min\u001b[39;00m \u001b[39mrange\u001b[39m(d)]\n",
      "Cell \u001b[1;32mIn[7], line 30\u001b[0m, in \u001b[0;36m<listcomp>\u001b[1;34m(.0)\u001b[0m\n\u001b[0;32m     28\u001b[0m \u001b[39mdef\u001b[39;00m \u001b[39msample\u001b[39m(pdf, gamma, d):\n\u001b[0;32m     29\u001b[0m \u001b[39m    \u001b[39m\u001b[39m\"\"\"Monte Carlo Rejection Sampling\"\"\"\u001b[39;00m\n\u001b[1;32m---> 30\u001b[0m     \u001b[39mreturn\u001b[39;00m [sample_1d(pdf, gamma, [\u001b[39m-\u001b[39;49m\u001b[39m10\u001b[39;49m\u001b[39m*\u001b[39;49mgamma, \u001b[39m10\u001b[39;49m\u001b[39m*\u001b[39;49mgamma]) \u001b[39mfor\u001b[39;00m _ \u001b[39min\u001b[39;00m \u001b[39mrange\u001b[39m(d)]\n",
      "Cell \u001b[1;32mIn[7], line 22\u001b[0m, in \u001b[0;36msample_1d\u001b[1;34m(pdf, gamma, interval)\u001b[0m\n\u001b[0;32m     20\u001b[0m \u001b[39m\u001b[39m\u001b[39m\"\"\"Monte-Carlo rejection sampling\"\"\"\u001b[39;00m\n\u001b[0;32m     21\u001b[0m \u001b[39mwhile\u001b[39;00m \u001b[39mTrue\u001b[39;00m:\n\u001b[1;32m---> 22\u001b[0m     w \u001b[39m=\u001b[39m np\u001b[39m.\u001b[39;49mrandom\u001b[39m.\u001b[39;49mrand(\u001b[39m1\u001b[39;49m) \u001b[39m*\u001b[39m (interval[\u001b[39m1\u001b[39m] \u001b[39m-\u001b[39m interval[\u001b[39m0\u001b[39m]) \u001b[39m+\u001b[39m interval[\u001b[39m0\u001b[39m] \u001b[39m#U(interval)\u001b[39;00m\n\u001b[0;32m     23\u001b[0m     y \u001b[39m=\u001b[39m np\u001b[39m.\u001b[39mrandom\u001b[39m.\u001b[39mrand(\u001b[39m1\u001b[39m) \u001b[39m#U[0,1]\u001b[39;00m\n\u001b[0;32m     25\u001b[0m     \u001b[39mif\u001b[39;00m y \u001b[39m<\u001b[39m\u001b[39m=\u001b[39m pdf(w\u001b[39m/\u001b[39mgamma):  \u001b[39m#p_new(x) ~ p(x/gamma) -- transform the standard pdf\u001b[39;00m\n",
      "\u001b[1;31mKeyboardInterrupt\u001b[0m: "
     ]
    }
   ],
   "source": [
    "import torch\n",
    "from torch.utils.data import Dataset,DataLoader\n",
    "from torch import optim\n",
    "import torch.nn as nn\n",
    "import torch.nn.functional as F\n",
    "\n",
    "class mydataset(Dataset):\n",
    "    def __init__(self, x, y):\n",
    "        self._x = x\n",
    "        self._y = y\n",
    "        self._len = len(x)\n",
    "\n",
    "    def __getitem__(self, item): \n",
    "        return self._x[item], self._y[item]\n",
    "\n",
    "    def __len__(self):\n",
    "        return self._len\n",
    "    \n",
    "train_loader = DataLoader(mydataset(nntrain_x, nntrain_y),batch_size=50, shuffle=True)\n",
    "test_loader = DataLoader(mydataset(nntest_x, nntest_y),batch_size=50, shuffle=False)\n",
    "\n",
    "class KernelNet(nn.Module): \n",
    "    def __init__(self):\n",
    "        super(KernelNet, self).__init__()\n",
    "        self.fc1 = nn.Linear(100, 60)\n",
    "        self.fc2 = nn.Linear(50, 30)\n",
    "        self.fc3 = nn.Linear(20, 5)\n",
    "        self.fc4 = nn.Linear(10, 1)\n",
    " \n",
    "    def forward(self, x):\n",
    "        rff=RandomFourierFeature(90,100,kernel='G',gamma=10**(-1))\n",
    "        y=x.detach().numpy()\n",
    "        y=pd.DataFrame(y)\n",
    "        yn = rff.transform(y)\n",
    "        x = torch.from_numpy(yn).float()\n",
    "        rff=RandomFourierFeature(60,50,kernel='G',gamma=10**(-2))\n",
    "        y=self.fc1(x).detach().numpy()\n",
    "        y=pd.DataFrame(y)\n",
    "        yn = rff.transform(y)\n",
    "        x = torch.from_numpy(yn).float()\n",
    "        rff=RandomFourierFeature(30,20,kernel='G',gamma=10**(-3))\n",
    "        y=self.fc2(x).detach().numpy()\n",
    "        y=pd.DataFrame(y)\n",
    "        yn = rff.transform(y)\n",
    "        x = torch.from_numpy(yn).float()\n",
    "        rff=RandomFourierFeature(5,10,kernel='G',gamma=10**(-4))\n",
    "        y=self.fc3(x).detach().numpy()\n",
    "        y=pd.DataFrame(y)\n",
    "        yn = rff.transform(y)\n",
    "        x = torch.from_numpy(yn).float()\n",
    "        return self.fc4(x)\n",
    "\n",
    "t0 = time.time()\n",
    "device = torch.device(\"cuda:0\" if torch.cuda.is_available() else \"cpu\")\n",
    "net = KernelNet()\n",
    "net = net.to(device)\n",
    "print(net)\n",
    "criterion=nn.MSELoss() \n",
    "optimizer=optim.SGD(net.parameters(),lr=0.001,momentum=0.8) #optim.Adam(...)\n",
    "\n",
    "loss=[]\n",
    "kernelnn_trainloss=[]\n",
    "kernelnn_testloss=[]\n",
    "\n",
    "for epoch in tqdm(range(200)): \n",
    "    for x, y in train_loader: #for batch, (x, y) in enumerate(train_loader): \n",
    "        x, y = x.to(device), y.to(device)\n",
    "        # Compute prediction error\n",
    "        y_pred = net(x)\n",
    "        y_pred = torch.squeeze(y_pred)\n",
    "        train_loss = criterion(y_pred, y)\n",
    "        loss.append(train_loss)\n",
    "        # Backpropagation\n",
    "        optimizer.zero_grad() \n",
    "        train_loss.backward()\n",
    "        optimizer.step()\n",
    "    if epoch % 10 == 0: \n",
    "        for x, y in test_loader:\n",
    "            x, y = x.to(device), y.to(device)\n",
    "            y_test_pred = net(x)\n",
    "            y_test_pred = torch.squeeze(y_test_pred)\n",
    "    \n",
    "            test_loss = criterion(y_test_pred,y)\n",
    "        print(f'''epoch {epoch}\n",
    "            Train set - loss: {train_loss}\n",
    "            Test  set - loss: {test_loss}\n",
    "            ''')\n",
    "        kernelnn_trainloss.append(float(train_loss))\n",
    "        kernelnn_testloss.append(float(test_loss))\n",
    "        \n",
    "    \n",
    "dnn_fit = time.time() - t0\n",
    "print(\"KernelNet complexity and model fitted in %.3f s\" % dnn_fit)"
   ]
  },
  {
   "attachments": {},
   "cell_type": "markdown",
   "metadata": {},
   "source": [
    "## Residual learning"
   ]
  },
  {
   "cell_type": "code",
   "execution_count": 6,
   "metadata": {},
   "outputs": [
    {
     "name": "stderr",
     "output_type": "stream",
     "text": [
      "100%|██████████| 6/6 [58:32<00:00, 585.42s/it]\n"
     ]
    },
    {
     "data": {
      "image/png": "[encoded data removed]",
      "text/plain": [
       "<Figure size 1000x400 with 2 Axes>"
      ]
     },
     "metadata": {},
     "output_type": "display_data"
    }
   ],
   "source": [
    "model = LinearRegression()\n",
    "layerset=np.linspace(1,6,6)\n",
    "layerset=layerset.astype(int)\n",
    "m0=20\n",
    "gamma0=0.0001\n",
    "n0=8\n",
    "trainmse=[]\n",
    "testmse=[]\n",
    "t=[]\n",
    "t0 = time.time()\n",
    "\n",
    "for layer in tqdm(layerset):\n",
    "    length=int(len(train_x)/layer)\n",
    "    for l in range(layer):  #ml points, nl sampling\n",
    "        if l==0:\n",
    "            for i in range(n0):\n",
    "                rff=RandomFourierFeature(90,m0,kernel='G',gamma=gamma0/10**l)\n",
    "                total_x=pd.concat([train_x,test_x])\n",
    "                feature=rff.transform(total_x)\n",
    "                train_xtransformed=feature[:len(train_x)]\n",
    "                test_xtransformed=feature[len(train_x):]\n",
    "                train_xltransformed=feature[l*length:(l+1)*length]\n",
    "                \n",
    "                model.fit(train_xltransformed, train_y[l*length:(l+1)*length])\n",
    "                if i==0:\n",
    "                    yl_kr=model.predict(test_xtransformed)\n",
    "                    yl_kltrain=model.predict(train_xtransformed)\n",
    "                else:\n",
    "                    yl_kr=yl_kr+model.predict(test_xtransformed)\n",
    "                    yl_kltrain=yl_kltrain+model.predict(train_xtransformed)\n",
    "            \n",
    "            y_kr=yl_kr/n0\n",
    "            y_krtrain=yl_kltrain/n0\n",
    "            \n",
    "        else:\n",
    "            for i in range(n0):\n",
    "                rff=RandomFourierFeature(90,m0,kernel='G',gamma=gamma0/10**l)\n",
    "                total_x=pd.concat([train_x,test_x])\n",
    "                feature=rff.transform(total_x)\n",
    "                train_xtransformed=feature[:len(train_x)]\n",
    "                test_xtransformed=feature[len(train_x):]\n",
    "                train_xltransformed=feature[l*length:(l+1)*length]\n",
    "                \n",
    "                model.fit(train_xltransformed, train_y[l*length:(l+1)*length]-y_krtrain[l*length:(l+1)*length]) ##fit residual\n",
    "                if i==0:\n",
    "                    yl_kr=model.predict(test_xtransformed)\n",
    "                    yl_kltrain=model.predict(train_xtransformed)\n",
    "                else:\n",
    "                    yl_kr=yl_kr+model.predict(test_xtransformed)\n",
    "                    yl_kltrain=yl_kltrain+model.predict(train_xtransformed)\n",
    "                \n",
    "            y_kr=y_kr+yl_kr/n0\n",
    "            y_krtrain=y_krtrain+yl_kltrain/n0    \n",
    "    \n",
    "    \n",
    "    kernel_fit = time.time() - t0\n",
    "    \n",
    "    t.append(kernel_fit)\n",
    "    trainmse.append(mean_squared_error(train_y,y_krtrain))\n",
    "    testmse.append(mean_squared_error(test_y,y_kr))\n",
    "\n",
    "fig, ax = plt.subplots(1, 2, figsize=(10, 4))\n",
    "ax[0].plot(layerset,trainmse)\n",
    "ax[0].plot(layerset,testmse)\n",
    "ax[0].legend([\"trainmse\",\"testmse\"])\n",
    "ax[0].set_xlabel(\"Layer number\")\n",
    "ax[0].set_ylabel(\"MSE\")\n",
    "ax[0].set_title(\"MSE with different layers\")\n",
    "\n",
    "ax[1].plot(layerset,t)\n",
    "ax[1].set_xlabel(\"Layer number\")\n",
    "ax[1].set_ylabel(\"Time\")\n",
    "ax[1].set_title(\"Running time with different layers\")\n",
    "plt.show()"
   ]
  },
  {
   "attachments": {},
   "cell_type": "markdown",
   "metadata": {},
   "source": [
    "random data splitting"
   ]
  },
  {
   "cell_type": "code",
   "execution_count": null,
   "metadata": {},
   "outputs": [
    {
     "name": "stderr",
     "output_type": "stream",
     "text": [
      "100%|██████████| 4/4 [11:04<00:00, 166.15s/it]"
     ]
    },
    {
     "name": "stdout",
     "output_type": "stream",
     "text": [
      "train_mse 111.17638048248446\n",
      "test_mse 111.91357794115811\n",
      "Res KernelNet complexity and model fitted in 664.615 s\n"
     ]
    },
    {
     "name": "stderr",
     "output_type": "stream",
     "text": [
      "\n"
     ]
    }
   ],
   "source": [
    "model = LinearRegression()\n",
    "m0=20\n",
    "gamma0=0.000001\n",
    "n0=8\n",
    "t0 = time.time()\n",
    "layer=5\n",
    "length=int(len(train_x)/layer)\n",
    "\n",
    "\n",
    "for l in tqdm(range(layer)):  #ml points, nl sampling\n",
    "    if l==0:\n",
    "        for i in range(n0):\n",
    "            rff=RandomFourierFeature(90,m0,kernel='G',gamma=gamma0/10**l)\n",
    "            total_x=pd.concat([train_x,test_x])\n",
    "            feature=rff.transform(total_x)\n",
    "            train_xtransformed=feature[:len(train_x)] \n",
    "            test_xtransformed=feature[len(train_x):]\n",
    "            \n",
    "            #data splitting\n",
    "            a=pd.DataFrame(train_y).values\n",
    "            b=pd.DataFrame(train_xtransformed).values\n",
    "            a=pd.DataFrame(a)\n",
    "            a.columns=['y']\n",
    "            b=pd.DataFrame(b)\n",
    "            concatt=pd.concat([a,b],axis=1)\n",
    "            train_xltransformed,rest = train_test_split(concatt, train_size=0.3)\n",
    "            train_yltransformed=train_xltransformed['y']\n",
    "            del train_xltransformed['y']\n",
    "                \n",
    "            model.fit(train_xltransformed, train_yltransformed)\n",
    "            if i==0:\n",
    "                yl_kr=model.predict(test_xtransformed)\n",
    "                yl_kltrain=model.predict(train_xtransformed)\n",
    "            else:\n",
    "                yl_kr=yl_kr+model.predict(test_xtransformed)\n",
    "                yl_kltrain=yl_kltrain+model.predict(train_xtransformed)\n",
    "            \n",
    "        y_kr=yl_kr/n0\n",
    "        y_krtrain=yl_kltrain/n0\n",
    "            \n",
    "    else:\n",
    "        for i in range(n0):\n",
    "            rff=RandomFourierFeature(90,m0,kernel='C',gamma=gamma0/10**l)\n",
    "            total_x=pd.concat([train_x,test_x])\n",
    "            feature=rff.transform(total_x)\n",
    "            train_xtransformed=feature[:len(train_x)] \n",
    "            test_xtransformed=feature[len(train_x):]\n",
    "            \n",
    "            #data splitting\n",
    "            a=pd.DataFrame(train_y).values\n",
    "            ap=pd.DataFrame(y_krtrain).values\n",
    "            b=pd.DataFrame(train_xtransformed).values\n",
    "            a=pd.DataFrame(a)\n",
    "            a.columns=['y']\n",
    "            ap=pd.DataFrame(ap)\n",
    "            ap.columns=['yp']\n",
    "            b=pd.DataFrame(b)\n",
    "            concatt=pd.concat([a,ap,b],axis=1)\n",
    "            train_xltransformed,rest = train_test_split(concatt, train_size=0.4)\n",
    "            train_yltransformed=train_xltransformed['y']\n",
    "            yl_krtrain=train_xltransformed['yp']\n",
    "            del train_xltransformed['y']\n",
    "            del train_xltransformed['yp']\n",
    "                \n",
    "            model.fit(train_xltransformed, train_yltransformed-yl_krtrain) ##fit residual\n",
    "            if i==0:\n",
    "                yl_kr=model.predict(test_xtransformed)\n",
    "                yl_kltrain=model.predict(train_xtransformed)\n",
    "            else:\n",
    "                yl_kr=yl_kr+model.predict(test_xtransformed)\n",
    "                yl_kltrain=yl_kltrain+model.predict(train_xtransformed)\n",
    "                \n",
    "        y_kr=y_kr+yl_kr/n0\n",
    "        y_krtrain=y_krtrain+yl_kltrain/n0  \n",
    "        \n",
    "kernel_fit = time.time() - t0 \n",
    "\n",
    "print(\"train_mse\",mean_squared_error(train_y,y_krtrain))\n",
    "print(\"test_mse\",mean_squared_error(test_y,y_kr))\n",
    "print(\"Res KernelNet complexity and model fitted in %.3f s\" % kernel_fit)"
   ]
  }
 ],
 "metadata": {
  "kernelspec": {
   "display_name": "pytorch",
   "language": "python",
   "name": "python3"
  },
  "language_info": {
   "codemirror_mode": {
    "name": "ipython",
    "version": 3
   },
   "file_extension": ".py",
   "mimetype": "text/x-python",
   "name": "python",
   "nbconvert_exporter": "python",
   "pygments_lexer": "ipython3",
   "version": "3.9.16"
  },
  "orig_nbformat": 4
 },
 "nbformat": 4,
 "nbformat_minor": 2
}
